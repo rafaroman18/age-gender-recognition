{
 "cells": [
  {
   "cell_type": "markdown",
   "id": "401f4097",
   "metadata": {},
   "source": [
    "# Age and Gender Recognition - Training the model\n",
    "\n",
    "In this notebook we will train the model and save it into a file so we can use it later to detect the age and gender. Also, we will be running this notebook in Google Colab because we can use the GPU available."
   ]
  },
  {
   "cell_type": "markdown",
   "id": "377c29e4",
   "metadata": {},
   "source": [
    "First of all we will download the dataset from the UTKFace url."
   ]
  },
  {
   "cell_type": "code",
   "execution_count": 3,
   "id": "976bd1d0",
   "metadata": {},
   "outputs": [
    {
     "data": {
      "text/plain": [
       "['face_dataset\\\\crop_part1.tar.gz', 'face_dataset\\\\UTKFace.tar.gz']"
      ]
     },
     "execution_count": 3,
     "metadata": {},
     "output_type": "execute_result"
    }
   ],
   "source": [
    "import gdown\n",
    "\n",
    "# We select the url\n",
    "url = \"https://drive.google.com/drive/folders/0BxYys69jI14kU0I1YUQyY1ZDRUE?usp=sharing\"\n",
    "\n",
    "# Then download the folder into our 'face_dataset' folder\n",
    "gdown.download_folder(url, output='face_dataset', quiet=True, use_cookies=False)"
   ]
  },
  {
   "cell_type": "markdown",
   "id": "b0e828f5",
   "metadata": {},
   "source": [
    "Now we will unzip the two files."
   ]
  },
  {
   "cell_type": "code",
   "execution_count": 6,
   "id": "2fd1ab74",
   "metadata": {},
   "outputs": [],
   "source": [
    "import tarfile\n",
    "  \n",
    "# Select the file and open\n",
    "file = tarfile.open('./face_dataset/UTKFace.tar.gz')\n",
    "  \n",
    "# Extract the file\n",
    "file.extractall('./face_dataset/')\n",
    "  \n",
    "# Close the file\n",
    "file.close()"
   ]
  },
  {
   "cell_type": "code",
   "execution_count": null,
   "id": "0e2861b1",
   "metadata": {},
   "outputs": [],
   "source": []
  }
 ],
 "metadata": {
  "kernelspec": {
   "display_name": "Python 3 (ipykernel)",
   "language": "python",
   "name": "python3"
  },
  "language_info": {
   "codemirror_mode": {
    "name": "ipython",
    "version": 3
   },
   "file_extension": ".py",
   "mimetype": "text/x-python",
   "name": "python",
   "nbconvert_exporter": "python",
   "pygments_lexer": "ipython3",
   "version": "3.9.13"
  }
 },
 "nbformat": 4,
 "nbformat_minor": 5
}
