{
  "cells": [
    {
      "cell_type": "markdown",
      "id": "401f4097",
      "metadata": {
        "id": "401f4097"
      },
      "source": [
        "# Age and Gender Recognition - Training the model\n",
        "\n",
        "In this notebook we will train the model and save it into a file so we can use it later to detect the age and gender. Also, we will be running this notebook in Google Colab because we can use the GPU available."
      ]
    },
    {
      "cell_type": "code",
      "execution_count": 4,
      "id": "0e2861b1",
      "metadata": {
        "id": "0e2861b1"
      },
      "outputs": [],
      "source": [
        "# Imports\n",
        "import cv2 as cv\n",
        "import os\n",
        "os.environ[\"TF_CPP_MIN_LOG_LEVEL\"] = \"2\"\n",
        "import tensorflow as tf\n",
        "import pandas as pd\n",
        "from tensorflow import keras\n",
        "from tensorflow.keras import layers\n",
        "import keras.applications\n",
        "import numpy as np\n",
        "import pathlib\n",
        "import gdown\n",
        "#import os.path\n",
        "import tarfile\n",
        "%matplotlib inline\n",
        "import matplotlib as mpl\n",
        "import matplotlib.pyplot as plt\n",
        "\n",
        "# Semilla aleatoria\n",
        "keras.backend.clear_session()\n",
        "np.random.seed = 42\n",
        "tf.random.set_seed(42)"
      ]
    },
    {
      "cell_type": "markdown",
      "id": "377c29e4",
      "metadata": {
        "id": "377c29e4"
      },
      "source": [
        "### **0. Preparing the dataset**\n",
        "\n",
        "First of all we will download the dataset from the UTKFace url."
      ]
    },
    {
      "cell_type": "code",
      "execution_count": 3,
      "id": "976bd1d0",
      "metadata": {
        "id": "976bd1d0"
      },
      "outputs": [],
      "source": [
        "# We select the url\n",
        "url = \"https://drive.google.com/drive/folders/0BxYys69jI14kU0I1YUQyY1ZDRUE?usp=sharing\"\n",
        "\n",
        "# Then download the drive folder into 'face_dataset', if not exists\n",
        "if os.path.isdir('./face_dataset/UTKFace/') == False:\n",
        "\n",
        "  gdown.download_folder(url, output='face_dataset', quiet=True, use_cookies=False)\n",
        "\n",
        "  # Now we will unzip the file\n",
        "  file = tarfile.open('./face_dataset/UTKFace.tar.gz')\n",
        "\n",
        "  # Extract the file\n",
        "  file.extractall('./face_dataset')\n",
        "\n",
        "  # Close the file\n",
        "  file.close()"
      ]
    },
    {
      "cell_type": "markdown",
      "source": [
        "After downloading the data, we will transform the images into a Tensorflow dataset."
      ],
      "metadata": {
        "id": "XggSekvpGuG5"
      },
      "id": "XggSekvpGuG5"
    },
    {
      "cell_type": "code",
      "source": [
        "# We declare the batch size\n",
        "batch_size = 32\n",
        "\n",
        "path = 'face_dataset/UTKFace/'\n",
        "ds_faces = tf.data.Dataset.list_files(str(pathlib.Path(path+'*.jpg')))\n",
        "\n",
        "def process_path(file_path):\n",
        "    image = tf.io.read_file(file_path)\n",
        "    image = tf.image.decode_jpeg(image, channels=3)\n",
        "    label = tf.strings.split(file_path, '/')[2]\n",
        "    label = tf.strings.split(label, '_')[0]# First test: only Age \":2]\"\n",
        "    label = tf.strings.to_number(label, out_type=tf.int64)\n",
        "\n",
        "    return image, label\n",
        "\n",
        "ds_faces = ds_faces.map(process_path).batch(batch_size)"
      ],
      "metadata": {
        "id": "Z_QWOzWSGso5"
      },
      "id": "Z_QWOzWSGso5",
      "execution_count": 5,
      "outputs": []
    },
    {
      "cell_type": "markdown",
      "source": [
        "Finally, we will divide the dataset between training, validation and test."
      ],
      "metadata": {
        "id": "DZflGGFIwJFA"
      },
      "id": "DZflGGFIwJFA"
    },
    {
      "cell_type": "code",
      "source": [
        "# First of all we will shuffle the data\n",
        "ds_faces = ds_faces.shuffle(1000)\n",
        "\n",
        "# Then we will split\n",
        "train_size = 0.8\n",
        "val_size = 0.1\n",
        "test_size = 0.1\n",
        "ds_len = ds_faces.__len__().numpy()\n",
        "\n",
        "ds_train = ds_faces.take(int(train_size * ds_len))\n",
        "ds_val = ds_faces.skip(int(train_size * ds_len)).take(int(val_size * ds_len))\n",
        "ds_test = ds_faces.skip(int(train_size * ds_len + val_size * ds_len)).take(int(test_size * ds_len))"
      ],
      "metadata": {
        "id": "EVRATpaTwIoc"
      },
      "id": "EVRATpaTwIoc",
      "execution_count": 6,
      "outputs": []
    },
    {
      "cell_type": "markdown",
      "source": [
        "### **1. Data Augmentation**\n",
        "\n",
        "Now, we will make data augmentation and data transformation. We will create transformation layers for the data augmentation and rescale/resize."
      ],
      "metadata": {
        "id": "KrRmGsa3v_n8"
      },
      "id": "KrRmGsa3v_n8"
    },
    {
      "cell_type": "code",
      "source": [
        "# We declare the sizes for the data augmentation\n",
        "img_height = 140\n",
        "img_width = 140\n",
        "\n",
        "## Reescale\n",
        "# Creating the reescaling layer\n",
        "resize_rescale = keras.Sequential([\n",
        "  keras.layers.Resizing(img_height, img_width),\n",
        "  keras.layers.Rescaling(scale=1./127.5, offset=-1)\n",
        "])\n",
        "\n",
        "## Data Augmentation\n",
        "# Rotate and flip\n",
        "rotation_flip = keras.Sequential([\n",
        "  keras.layers.RandomFlip(\"horizontal_and_vertical\"),\n",
        "  keras.layers.RandomRotation(0.2)\n",
        "])\n",
        "\n",
        "## Finally, we create a layer with the transformations\n",
        "data_augmentation = keras.Sequential(\n",
        "    [rotation_flip]\n",
        ")"
      ],
      "metadata": {
        "id": "ZyOMR8mGwSGF"
      },
      "id": "ZyOMR8mGwSGF",
      "execution_count": 15,
      "outputs": []
    },
    {
      "cell_type": "markdown",
      "source": [
        "Now we will apply the layers to the dataset."
      ],
      "metadata": {
        "id": "0ZW8t5gmyxzT"
      },
      "id": "0ZW8t5gmyxzT"
    },
    {
      "cell_type": "code",
      "source": [
        "# Reescaling the images\n",
        "ds_train = ds_train.map(lambda x, y: (tf.image.resize(x, (img_height, img_width)), y))\n",
        "ds_val = ds_val.map(lambda x, y: (tf.image.resize(x, (img_height, img_width)), y))\n",
        "ds_test = ds_test.map(lambda x, y: (tf.image.resize(x, (img_height, img_width)), y))\n",
        "\n",
        "# We convert the data into batcher\n",
        "ds_train = ds_train.cache().batch(batch_size).prefetch(buffer_size=10)\n",
        "ds_val = ds_val.cache().batch(batch_size).prefetch(buffer_size=10)\n",
        "ds_test = ds_test.cache().batch(batch_size).prefetch(buffer_size=10)"
      ],
      "metadata": {
        "id": "wTYdoGeDyxTt"
      },
      "id": "wTYdoGeDyxTt",
      "execution_count": 17,
      "outputs": []
    },
    {
      "cell_type": "markdown",
      "source": [
        "### **2. Configuring the pre-trained model**\n",
        "\n",
        "In this step, we will select a pre-trained model (Xception)"
      ],
      "metadata": {
        "id": "a30_Vzng0RNc"
      },
      "id": "a30_Vzng0RNc"
    },
    {
      "cell_type": "code",
      "source": [],
      "metadata": {
        "id": "L_F4_zWc0Mha"
      },
      "id": "L_F4_zWc0Mha",
      "execution_count": null,
      "outputs": []
    },
    {
      "cell_type": "code",
      "source": [],
      "metadata": {
        "id": "r3kAFGwU0Mac"
      },
      "id": "r3kAFGwU0Mac",
      "execution_count": null,
      "outputs": []
    },
    {
      "cell_type": "code",
      "source": [],
      "metadata": {
        "id": "aI2JJGVt0MQF"
      },
      "id": "aI2JJGVt0MQF",
      "execution_count": null,
      "outputs": []
    },
    {
      "cell_type": "code",
      "source": [],
      "metadata": {
        "id": "AuDcmg_r0MNp"
      },
      "id": "AuDcmg_r0MNp",
      "execution_count": null,
      "outputs": []
    },
    {
      "cell_type": "code",
      "source": [],
      "metadata": {
        "id": "WqEtw7m00MLM"
      },
      "id": "WqEtw7m00MLM",
      "execution_count": null,
      "outputs": []
    },
    {
      "cell_type": "code",
      "source": [],
      "metadata": {
        "id": "A9Om2aGL0MI9"
      },
      "id": "A9Om2aGL0MI9",
      "execution_count": null,
      "outputs": []
    },
    {
      "cell_type": "code",
      "source": [],
      "metadata": {
        "id": "eU6OU7UJ0MGY"
      },
      "id": "eU6OU7UJ0MGY",
      "execution_count": null,
      "outputs": []
    },
    {
      "cell_type": "code",
      "source": [],
      "metadata": {
        "id": "3JjftXv80MD7"
      },
      "id": "3JjftXv80MD7",
      "execution_count": null,
      "outputs": []
    },
    {
      "cell_type": "code",
      "source": [],
      "metadata": {
        "id": "uAbbYzTT0MBQ"
      },
      "id": "uAbbYzTT0MBQ",
      "execution_count": null,
      "outputs": []
    },
    {
      "cell_type": "code",
      "source": [],
      "metadata": {
        "id": "-yqmo66L0L_B"
      },
      "id": "-yqmo66L0L_B",
      "execution_count": null,
      "outputs": []
    },
    {
      "cell_type": "code",
      "source": [],
      "metadata": {
        "id": "3tuj7MOF0L5F"
      },
      "id": "3tuj7MOF0L5F",
      "execution_count": null,
      "outputs": []
    },
    {
      "cell_type": "code",
      "source": [
        "model = keras.Sequential([\n",
        "    layers.Input((200,200,3)),\n",
        "    layers.Conv2D(16, 3, padding='same'),\n",
        "    layers.Conv2D(32,3, padding='same'),\n",
        "    layers.MaxPooling2D(),\n",
        "    layers.Flatten(),\n",
        "    layers.Dense(10)\n",
        "])\n",
        "\n",
        "model.compile(\n",
        "    optimizer=keras.optimizers.Adam(),\n",
        "    loss=[\n",
        "        keras.losses.SparseCategoricalCrossentropy(from_logits=True)\n",
        "    ],\n",
        "    metrics=['accuracy']\n",
        "    )"
      ],
      "metadata": {
        "id": "ONC5XesmMaH_"
      },
      "id": "ONC5XesmMaH_",
      "execution_count": 7,
      "outputs": []
    },
    {
      "cell_type": "code",
      "source": [
        "model.summary()"
      ],
      "metadata": {
        "colab": {
          "base_uri": "https://localhost:8080/"
        },
        "id": "41vn1QpDQvja",
        "outputId": "0daf6646-1632-48f7-8019-91311e17befe"
      },
      "id": "41vn1QpDQvja",
      "execution_count": 8,
      "outputs": [
        {
          "output_type": "stream",
          "name": "stdout",
          "text": [
            "Model: \"sequential\"\n",
            "_________________________________________________________________\n",
            " Layer (type)                Output Shape              Param #   \n",
            "=================================================================\n",
            " conv2d (Conv2D)             (None, 200, 200, 16)      448       \n",
            "                                                                 \n",
            " conv2d_1 (Conv2D)           (None, 200, 200, 32)      4640      \n",
            "                                                                 \n",
            " max_pooling2d (MaxPooling2  (None, 100, 100, 32)      0         \n",
            " D)                                                              \n",
            "                                                                 \n",
            " flatten (Flatten)           (None, 320000)            0         \n",
            "                                                                 \n",
            " dense (Dense)               (None, 10)                3200010   \n",
            "                                                                 \n",
            "=================================================================\n",
            "Total params: 3205098 (12.23 MB)\n",
            "Trainable params: 3205098 (12.23 MB)\n",
            "Non-trainable params: 0 (0.00 Byte)\n",
            "_________________________________________________________________\n"
          ]
        }
      ]
    },
    {
      "cell_type": "code",
      "source": [
        "model.fit(ds_faces, epochs=10, verbose=2)"
      ],
      "metadata": {
        "colab": {
          "base_uri": "https://localhost:8080/",
          "height": 391
        },
        "id": "23W9GyLeRRGD",
        "outputId": "a6e5312f-9e09-4917-9d5d-2cf20b43ca4e"
      },
      "id": "23W9GyLeRRGD",
      "execution_count": 9,
      "outputs": [
        {
          "output_type": "stream",
          "name": "stdout",
          "text": [
            "Epoch 1/10\n"
          ]
        },
        {
          "output_type": "error",
          "ename": "KeyboardInterrupt",
          "evalue": "ignored",
          "traceback": [
            "\u001b[0;31m---------------------------------------------------------------------------\u001b[0m",
            "\u001b[0;31mKeyboardInterrupt\u001b[0m                         Traceback (most recent call last)",
            "\u001b[0;32m<ipython-input-9-c61bb556eb80>\u001b[0m in \u001b[0;36m<cell line: 1>\u001b[0;34m()\u001b[0m\n\u001b[0;32m----> 1\u001b[0;31m \u001b[0mmodel\u001b[0m\u001b[0;34m.\u001b[0m\u001b[0mfit\u001b[0m\u001b[0;34m(\u001b[0m\u001b[0mds_faces\u001b[0m\u001b[0;34m,\u001b[0m \u001b[0mepochs\u001b[0m\u001b[0;34m=\u001b[0m\u001b[0;36m10\u001b[0m\u001b[0;34m,\u001b[0m \u001b[0mverbose\u001b[0m\u001b[0;34m=\u001b[0m\u001b[0;36m2\u001b[0m\u001b[0;34m)\u001b[0m\u001b[0;34m\u001b[0m\u001b[0;34m\u001b[0m\u001b[0m\n\u001b[0m",
            "\u001b[0;32m/usr/local/lib/python3.10/dist-packages/keras/src/utils/traceback_utils.py\u001b[0m in \u001b[0;36merror_handler\u001b[0;34m(*args, **kwargs)\u001b[0m\n\u001b[1;32m     63\u001b[0m         \u001b[0mfiltered_tb\u001b[0m \u001b[0;34m=\u001b[0m \u001b[0;32mNone\u001b[0m\u001b[0;34m\u001b[0m\u001b[0;34m\u001b[0m\u001b[0m\n\u001b[1;32m     64\u001b[0m         \u001b[0;32mtry\u001b[0m\u001b[0;34m:\u001b[0m\u001b[0;34m\u001b[0m\u001b[0;34m\u001b[0m\u001b[0m\n\u001b[0;32m---> 65\u001b[0;31m             \u001b[0;32mreturn\u001b[0m \u001b[0mfn\u001b[0m\u001b[0;34m(\u001b[0m\u001b[0;34m*\u001b[0m\u001b[0margs\u001b[0m\u001b[0;34m,\u001b[0m \u001b[0;34m**\u001b[0m\u001b[0mkwargs\u001b[0m\u001b[0;34m)\u001b[0m\u001b[0;34m\u001b[0m\u001b[0;34m\u001b[0m\u001b[0m\n\u001b[0m\u001b[1;32m     66\u001b[0m         \u001b[0;32mexcept\u001b[0m \u001b[0mException\u001b[0m \u001b[0;32mas\u001b[0m \u001b[0me\u001b[0m\u001b[0;34m:\u001b[0m\u001b[0;34m\u001b[0m\u001b[0;34m\u001b[0m\u001b[0m\n\u001b[1;32m     67\u001b[0m             \u001b[0mfiltered_tb\u001b[0m \u001b[0;34m=\u001b[0m \u001b[0m_process_traceback_frames\u001b[0m\u001b[0;34m(\u001b[0m\u001b[0me\u001b[0m\u001b[0;34m.\u001b[0m\u001b[0m__traceback__\u001b[0m\u001b[0;34m)\u001b[0m\u001b[0;34m\u001b[0m\u001b[0;34m\u001b[0m\u001b[0m\n",
            "\u001b[0;32m/usr/local/lib/python3.10/dist-packages/keras/src/engine/training.py\u001b[0m in \u001b[0;36mfit\u001b[0;34m(self, x, y, batch_size, epochs, verbose, callbacks, validation_split, validation_data, shuffle, class_weight, sample_weight, initial_epoch, steps_per_epoch, validation_steps, validation_batch_size, validation_freq, max_queue_size, workers, use_multiprocessing)\u001b[0m\n\u001b[1;32m   1731\u001b[0m                 \u001b[0mcallbacks\u001b[0m\u001b[0;34m.\u001b[0m\u001b[0mon_epoch_begin\u001b[0m\u001b[0;34m(\u001b[0m\u001b[0mepoch\u001b[0m\u001b[0;34m)\u001b[0m\u001b[0;34m\u001b[0m\u001b[0;34m\u001b[0m\u001b[0m\n\u001b[1;32m   1732\u001b[0m                 \u001b[0;32mwith\u001b[0m \u001b[0mdata_handler\u001b[0m\u001b[0;34m.\u001b[0m\u001b[0mcatch_stop_iteration\u001b[0m\u001b[0;34m(\u001b[0m\u001b[0;34m)\u001b[0m\u001b[0;34m:\u001b[0m\u001b[0;34m\u001b[0m\u001b[0;34m\u001b[0m\u001b[0m\n\u001b[0;32m-> 1733\u001b[0;31m                     \u001b[0;32mfor\u001b[0m \u001b[0mstep\u001b[0m \u001b[0;32min\u001b[0m \u001b[0mdata_handler\u001b[0m\u001b[0;34m.\u001b[0m\u001b[0msteps\u001b[0m\u001b[0;34m(\u001b[0m\u001b[0;34m)\u001b[0m\u001b[0;34m:\u001b[0m\u001b[0;34m\u001b[0m\u001b[0;34m\u001b[0m\u001b[0m\n\u001b[0m\u001b[1;32m   1734\u001b[0m                         with tf.profiler.experimental.Trace(\n\u001b[1;32m   1735\u001b[0m                             \u001b[0;34m\"train\"\u001b[0m\u001b[0;34m,\u001b[0m\u001b[0;34m\u001b[0m\u001b[0;34m\u001b[0m\u001b[0m\n",
            "\u001b[0;32m/usr/local/lib/python3.10/dist-packages/keras/src/engine/data_adapter.py\u001b[0m in \u001b[0;36msteps\u001b[0;34m(self)\u001b[0m\n\u001b[1;32m   1399\u001b[0m             \u001b[0;32mif\u001b[0m \u001b[0mself\u001b[0m\u001b[0;34m.\u001b[0m\u001b[0m_insufficient_data\u001b[0m\u001b[0;34m:\u001b[0m  \u001b[0;31m# Set by `catch_stop_iteration`.\u001b[0m\u001b[0;34m\u001b[0m\u001b[0;34m\u001b[0m\u001b[0m\n\u001b[1;32m   1400\u001b[0m                 \u001b[0;32mbreak\u001b[0m\u001b[0;34m\u001b[0m\u001b[0;34m\u001b[0m\u001b[0m\n\u001b[0;32m-> 1401\u001b[0;31m             \u001b[0moriginal_spe\u001b[0m \u001b[0;34m=\u001b[0m \u001b[0mself\u001b[0m\u001b[0;34m.\u001b[0m\u001b[0m_steps_per_execution\u001b[0m\u001b[0;34m.\u001b[0m\u001b[0mnumpy\u001b[0m\u001b[0;34m(\u001b[0m\u001b[0;34m)\u001b[0m\u001b[0;34m.\u001b[0m\u001b[0mitem\u001b[0m\u001b[0;34m(\u001b[0m\u001b[0;34m)\u001b[0m\u001b[0;34m\u001b[0m\u001b[0;34m\u001b[0m\u001b[0m\n\u001b[0m\u001b[1;32m   1402\u001b[0m             can_run_full_execution = (\n\u001b[1;32m   1403\u001b[0m                 \u001b[0moriginal_spe\u001b[0m \u001b[0;34m==\u001b[0m \u001b[0;36m1\u001b[0m\u001b[0;34m\u001b[0m\u001b[0;34m\u001b[0m\u001b[0m\n",
            "\u001b[0;32m/usr/local/lib/python3.10/dist-packages/tensorflow/python/ops/resource_variable_ops.py\u001b[0m in \u001b[0;36mnumpy\u001b[0;34m(self)\u001b[0m\n\u001b[1;32m    686\u001b[0m   \u001b[0;32mdef\u001b[0m \u001b[0mnumpy\u001b[0m\u001b[0;34m(\u001b[0m\u001b[0mself\u001b[0m\u001b[0;34m)\u001b[0m\u001b[0;34m:\u001b[0m\u001b[0;34m\u001b[0m\u001b[0;34m\u001b[0m\u001b[0m\n\u001b[1;32m    687\u001b[0m     \u001b[0;32mif\u001b[0m \u001b[0mcontext\u001b[0m\u001b[0;34m.\u001b[0m\u001b[0mexecuting_eagerly\u001b[0m\u001b[0;34m(\u001b[0m\u001b[0;34m)\u001b[0m\u001b[0;34m:\u001b[0m\u001b[0;34m\u001b[0m\u001b[0;34m\u001b[0m\u001b[0m\n\u001b[0;32m--> 688\u001b[0;31m       \u001b[0;32mreturn\u001b[0m \u001b[0mself\u001b[0m\u001b[0;34m.\u001b[0m\u001b[0mread_value\u001b[0m\u001b[0;34m(\u001b[0m\u001b[0;34m)\u001b[0m\u001b[0;34m.\u001b[0m\u001b[0mnumpy\u001b[0m\u001b[0;34m(\u001b[0m\u001b[0;34m)\u001b[0m\u001b[0;34m\u001b[0m\u001b[0;34m\u001b[0m\u001b[0m\n\u001b[0m\u001b[1;32m    689\u001b[0m     raise NotImplementedError(\n\u001b[1;32m    690\u001b[0m         \"numpy() is only available when eager execution is enabled.\")\n",
            "\u001b[0;32m/usr/local/lib/python3.10/dist-packages/tensorflow/python/framework/ops.py\u001b[0m in \u001b[0;36mnumpy\u001b[0;34m(self)\u001b[0m\n\u001b[1;32m   1139\u001b[0m     \"\"\"\n\u001b[1;32m   1140\u001b[0m     \u001b[0;31m# TODO(slebedev): Consider avoiding a copy for non-CPU or remote tensors.\u001b[0m\u001b[0;34m\u001b[0m\u001b[0;34m\u001b[0m\u001b[0m\n\u001b[0;32m-> 1141\u001b[0;31m     \u001b[0mmaybe_arr\u001b[0m \u001b[0;34m=\u001b[0m \u001b[0mself\u001b[0m\u001b[0;34m.\u001b[0m\u001b[0m_numpy\u001b[0m\u001b[0;34m(\u001b[0m\u001b[0;34m)\u001b[0m  \u001b[0;31m# pylint: disable=protected-access\u001b[0m\u001b[0;34m\u001b[0m\u001b[0;34m\u001b[0m\u001b[0m\n\u001b[0m\u001b[1;32m   1142\u001b[0m     \u001b[0;32mreturn\u001b[0m \u001b[0mmaybe_arr\u001b[0m\u001b[0;34m.\u001b[0m\u001b[0mcopy\u001b[0m\u001b[0;34m(\u001b[0m\u001b[0;34m)\u001b[0m \u001b[0;32mif\u001b[0m \u001b[0misinstance\u001b[0m\u001b[0;34m(\u001b[0m\u001b[0mmaybe_arr\u001b[0m\u001b[0;34m,\u001b[0m \u001b[0mnp\u001b[0m\u001b[0;34m.\u001b[0m\u001b[0mndarray\u001b[0m\u001b[0;34m)\u001b[0m \u001b[0;32melse\u001b[0m \u001b[0mmaybe_arr\u001b[0m\u001b[0;34m\u001b[0m\u001b[0;34m\u001b[0m\u001b[0m\n\u001b[1;32m   1143\u001b[0m \u001b[0;34m\u001b[0m\u001b[0m\n",
            "\u001b[0;32m/usr/local/lib/python3.10/dist-packages/tensorflow/python/framework/ops.py\u001b[0m in \u001b[0;36m_numpy\u001b[0;34m(self)\u001b[0m\n\u001b[1;32m   1105\u001b[0m   \u001b[0;32mdef\u001b[0m \u001b[0m_numpy\u001b[0m\u001b[0;34m(\u001b[0m\u001b[0mself\u001b[0m\u001b[0;34m)\u001b[0m\u001b[0;34m:\u001b[0m\u001b[0;34m\u001b[0m\u001b[0;34m\u001b[0m\u001b[0m\n\u001b[1;32m   1106\u001b[0m     \u001b[0;32mtry\u001b[0m\u001b[0;34m:\u001b[0m\u001b[0;34m\u001b[0m\u001b[0;34m\u001b[0m\u001b[0m\n\u001b[0;32m-> 1107\u001b[0;31m       \u001b[0;32mreturn\u001b[0m \u001b[0mself\u001b[0m\u001b[0;34m.\u001b[0m\u001b[0m_numpy_internal\u001b[0m\u001b[0;34m(\u001b[0m\u001b[0;34m)\u001b[0m\u001b[0;34m\u001b[0m\u001b[0;34m\u001b[0m\u001b[0m\n\u001b[0m\u001b[1;32m   1108\u001b[0m     \u001b[0;32mexcept\u001b[0m \u001b[0mcore\u001b[0m\u001b[0;34m.\u001b[0m\u001b[0m_NotOkStatusException\u001b[0m \u001b[0;32mas\u001b[0m \u001b[0me\u001b[0m\u001b[0;34m:\u001b[0m  \u001b[0;31m# pylint: disable=protected-access\u001b[0m\u001b[0;34m\u001b[0m\u001b[0;34m\u001b[0m\u001b[0m\n\u001b[1;32m   1109\u001b[0m       \u001b[0;32mraise\u001b[0m \u001b[0mcore\u001b[0m\u001b[0;34m.\u001b[0m\u001b[0m_status_to_exception\u001b[0m\u001b[0;34m(\u001b[0m\u001b[0me\u001b[0m\u001b[0;34m)\u001b[0m \u001b[0;32mfrom\u001b[0m \u001b[0;32mNone\u001b[0m  \u001b[0;31m# pylint: disable=protected-access\u001b[0m\u001b[0;34m\u001b[0m\u001b[0;34m\u001b[0m\u001b[0m\n",
            "\u001b[0;31mKeyboardInterrupt\u001b[0m: "
          ]
        }
      ]
    }
  ],
  "metadata": {
    "kernelspec": {
      "display_name": "Python 3",
      "name": "python3"
    },
    "language_info": {
      "codemirror_mode": {
        "name": "ipython",
        "version": 3
      },
      "file_extension": ".py",
      "mimetype": "text/x-python",
      "name": "python",
      "nbconvert_exporter": "python",
      "pygments_lexer": "ipython3",
      "version": "3.9.13"
    },
    "colab": {
      "provenance": [],
      "gpuType": "T4"
    },
    "accelerator": "GPU"
  },
  "nbformat": 4,
  "nbformat_minor": 5
}