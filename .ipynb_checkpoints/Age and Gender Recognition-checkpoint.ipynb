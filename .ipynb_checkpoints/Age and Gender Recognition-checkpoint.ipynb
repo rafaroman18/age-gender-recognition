{
 "cells": [
  {
   "cell_type": "markdown",
   "id": "be83199d",
   "metadata": {},
   "source": [
    "# Age and Gender Recognition\n",
    "\n",
    "### github.com/rafaroman18\n",
    "\n",
    "This project consist of classifying in real time the gender of a person and their age. We will be using a dataset of faces and a library of python to activate the camera of our laptop."
   ]
  },
  {
   "cell_type": "code",
   "execution_count": null,
   "id": "94c4d5c8",
   "metadata": {},
   "outputs": [],
   "source": [
    "# Imports\n",
    "import cv2 as cv"
   ]
  },
  {
   "cell_type": "markdown",
   "id": "dbb4531a",
   "metadata": {},
   "source": [
    "First of all we will create a model to predict the gender and age of the people in the camera. We will train this model with a face dataset and we will use a pretrained model: XCEPTION. "
   ]
  },
  {
   "cell_type": "code",
   "execution_count": 113,
   "id": "1698da94",
   "metadata": {},
   "outputs": [],
   "source": [
    "face_cascade = cv.CascadeClassifier('haarcascade_frontalface_default.xml')\n",
    "cap = cv.VideoCapture(0)\n",
    "\n",
    "\n",
    "if not cap.isOpened():\n",
    "    print(\"Cannot open camera\")\n",
    "    exit()\n",
    "\n",
    "try:\n",
    "    while True:\n",
    "        # Capture frame-by-frame\n",
    "        ret, frame = cap.read()\n",
    "        \n",
    "        # if frame is read correctly ret is True\n",
    "        if not ret:\n",
    "            print(\"Can't receive frame (stream end?). Exiting ...\")\n",
    "            break\n",
    "        \n",
    "        faces = face_cascade.detectMultiScale(\n",
    "            frame,\n",
    "            scaleFactor=1.1,\n",
    "            minNeighbors=5,\n",
    "            flags=cv.CASCADE_SCALE_IMAGE\n",
    "        )\n",
    "        \n",
    "        for (x, y, w, h) in faces:\n",
    "            cv.rectangle(frame, (x, y), (x+w, y+h), (0, 255, 0), 2)\n",
    "\n",
    "        # Display the resulting frame\n",
    "        cv.imshow('frame', frame)\n",
    "        if cv.waitKey(1) == ord('q'):\n",
    "            break\n",
    "finally:\n",
    "    # Finally, release capture\n",
    "    cap.release()\n",
    "    cv.destroyAllWindows()"
   ]
  },
  {
   "cell_type": "code",
   "execution_count": null,
   "id": "6ec69ace",
   "metadata": {},
   "outputs": [],
   "source": []
  }
 ],
 "metadata": {
  "kernelspec": {
   "display_name": "Python 3 (ipykernel)",
   "language": "python",
   "name": "python3"
  },
  "language_info": {
   "codemirror_mode": {
    "name": "ipython",
    "version": 3
   },
   "file_extension": ".py",
   "mimetype": "text/x-python",
   "name": "python",
   "nbconvert_exporter": "python",
   "pygments_lexer": "ipython3",
   "version": "3.9.13"
  }
 },
 "nbformat": 4,
 "nbformat_minor": 5
}
