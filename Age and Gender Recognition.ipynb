{
 "cells": [
  {
   "cell_type": "markdown",
   "id": "5213a592",
   "metadata": {},
   "source": [
    "# Age and Gender Recognition\n",
    "\n",
    "### github.com/rafaroman18\n",
    "\n",
    "This project consist of classifying in real time the gender of a person and their age. We will be using a dataset of faces and a library of python to activate the camera of our laptop."
   ]
  },
  {
   "cell_type": "code",
   "execution_count": 1,
   "id": "0736a8bf",
   "metadata": {},
   "outputs": [],
   "source": [
    "# Imports\n",
    "import cv2 as cv\n",
    "import os\n",
    "os.environ[\"TF_CPP_MIN_LOG_LEVEL\"] = \"2\"\n",
    "\n",
    "import tensorflow as tf\n",
    "import pandas as pd\n",
    "from tensorflow import keras\n",
    "from tensorflow.keras import layers\n",
    "\n",
    "import pathlib"
   ]
  },
  {
   "cell_type": "markdown",
   "id": "1bbe43be",
   "metadata": {},
   "source": [
    "First of all we will create a model to predict the gender and age of the people in the camera. We will train this model with a face dataset and we will use a pretrained model: XCEPTION. \n",
    "\n",
    "We will use the UTKFace Dataset, so we have to create a function to transform the images locally into a tensorflow dataset."
   ]
  },
  {
   "cell_type": "markdown",
   "id": "f144589c",
   "metadata": {},
   "source": [
    "## KEEP IN MIND: DATA ANALYSIS"
   ]
  },
  {
   "cell_type": "code",
   "execution_count": 3,
   "id": "be63eaa0",
   "metadata": {},
   "outputs": [],
   "source": [
    "batch_size = 32\n",
    "img_height = 200\n",
    "img_width = 200\n",
    "\n",
    "path = 'face_dataset/'\n",
    "ds_train = tf.data.Dataset.list_files(str(pathlib.Path(path+'*.jpg')))\n",
    "\n",
    "def process_path(file_path):\n",
    "    image = tf.io.read_file(file_path)\n",
    "    image = tf.image.decode_jpeg(image, channels=1)\n",
    "    label = tf.strings.split(file_path, '\\\\')[1]\n",
    "    label = tf.strings.split(label, '_')[0]# First test: only Age \":2]\"\n",
    "    label = tf.strings.to_number(label, out_type=tf.int64)\n",
    "    \n",
    "    return image, label\n",
    "\n",
    "ds_train = ds_train.map(process_path).batch(batch_size)"
   ]
  },
  {
   "cell_type": "code",
   "execution_count": null,
   "id": "52f9830e",
   "metadata": {},
   "outputs": [],
   "source": [
    "# https://towardsdatascience.com/building-a-multi-output-convolutional-neural-network-with-keras-ed24c7bc1178"
   ]
  },
  {
   "cell_type": "code",
   "execution_count": null,
   "id": "5d833e84",
   "metadata": {},
   "outputs": [],
   "source": []
  },
  {
   "cell_type": "code",
   "execution_count": null,
   "id": "144e7457",
   "metadata": {},
   "outputs": [],
   "source": []
  },
  {
   "cell_type": "code",
   "execution_count": null,
   "id": "7da0e738",
   "metadata": {},
   "outputs": [],
   "source": []
  },
  {
   "cell_type": "code",
   "execution_count": null,
   "id": "644ec066",
   "metadata": {},
   "outputs": [],
   "source": []
  },
  {
   "cell_type": "code",
   "execution_count": null,
   "id": "22d84a92",
   "metadata": {},
   "outputs": [],
   "source": [
    "face_cascade = cv.CascadeClassifier('haarcascade_frontalface_default.xml')\n",
    "cap = cv.VideoCapture(0)\n",
    "\n",
    "\n",
    "if not cap.isOpened():\n",
    "    print(\"Cannot open camera\")\n",
    "    exit()\n",
    "\n",
    "try:\n",
    "    while True:\n",
    "        # Capture frame-by-frame\n",
    "        ret, frame = cap.read()\n",
    "        \n",
    "        # if frame is read correctly ret is True\n",
    "        if not ret:\n",
    "            print(\"Can't receive frame (stream end?). Exiting ...\")\n",
    "            break\n",
    "        \n",
    "        faces = face_cascade.detectMultiScale(\n",
    "            frame,\n",
    "            scaleFactor=1.1,\n",
    "            minNeighbors=5,\n",
    "            flags=cv.CASCADE_SCALE_IMAGE\n",
    "        )\n",
    "        \n",
    "        for (x, y, w, h) in faces:\n",
    "            cv.rectangle(frame, (x, y), (x+w, y+h), (0, 255, 0), 2)\n",
    "\n",
    "        # Display the resulting frame\n",
    "        cv.imshow('frame', frame)\n",
    "        if cv.waitKey(1) == ord('q'):\n",
    "            break\n",
    "finally:\n",
    "    # Finally, release capture\n",
    "    cap.release()\n",
    "    cv.destroyAllWindows()"
   ]
  },
  {
   "cell_type": "code",
   "execution_count": null,
   "id": "a7eb7904",
   "metadata": {},
   "outputs": [],
   "source": []
  }
 ],
 "metadata": {
  "kernelspec": {
   "display_name": "Python 3 (ipykernel)",
   "language": "python",
   "name": "python3"
  },
  "language_info": {
   "codemirror_mode": {
    "name": "ipython",
    "version": 3
   },
   "file_extension": ".py",
   "mimetype": "text/x-python",
   "name": "python",
   "nbconvert_exporter": "python",
   "pygments_lexer": "ipython3",
   "version": "3.9.13"
  }
 },
 "nbformat": 4,
 "nbformat_minor": 5
}
